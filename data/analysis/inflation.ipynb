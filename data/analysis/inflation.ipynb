{
 "cells": [
  {
   "cell_type": "markdown",
   "id": "a7d4bdf3",
   "metadata": {},
   "source": [
    "# Pulling Inflation Data from BLS"
   ]
  },
  {
   "cell_type": "code",
   "execution_count": null,
   "id": "f44ae1d7",
   "metadata": {},
   "outputs": [
    {
     "name": "stdout",
     "output_type": "stream",
     "text": [
      "✅ Notebook setup complete!\n",
      "✅ Available APIs: bls\n",
      "✅ Available libraries: pd, np, plt, sns, datetime\n",
      "✅ Helper functions: save_data(), save_figure(), load_data()\n",
      "📁 Data directory: /Users/annebode/Documents/selfevidence.github.io/data\n",
      "📁 Output directory: /Users/annebode/Documents/selfevidence.github.io/data/output\n",
      "📊 Ready for analysis!\n"
     ]
    }
   ],
   "source": [
    "from _notebook_setup import *\n",
    "hit_api = False\n",
    "save_output = False"
   ]
  },
  {
   "cell_type": "code",
   "execution_count": 2,
   "id": "471b650c",
   "metadata": {},
   "outputs": [],
   "source": [
    "current_year= int(datetime.now().strftime(\"%Y\"))\n",
    "years = list(range(1979, current_year + 1))\n",
    "\n",
    "# got series_ids from https://www.bls.gov/help/hlpforma.htm#OCWC\n",
    "\n",
    "base_series_ids = {\n",
    "    \"CUUR\": \"CPI (Unadjusted)\"\n",
    " }\n",
    "\n",
    "regions = {\n",
    "    \"0000\": \"National\",\n",
    "    \"0100\": \"Northeast\",\n",
    "    \"0200\": \"Midwest\",\n",
    "    \"0300\": \"South\",\n",
    "    \"0400\": \"West\",\n",
    "}\n",
    "\n",
    "items = {\n",
    "    \"SA0\": \"All items\",\n",
    "    \"SA0L1E\": \"Core CPI (excludes food & energy)\",\n",
    "    \"SAA\": \"Apparel\",\n",
    "    \"SAE\": \"Education and communication\",\n",
    "    \"SAF\": \"Food and beverages\",\n",
    "    \"SAG\": \"Other goods and services\",\n",
    "    \"SAH\": \"Housing\",\n",
    "    \"SAM\": \"Medical care\",\n",
    "    \"SAR\": \"Recreation\",\n",
    "    \"SAT\": \"Transportation\",\n",
    "}\n",
    "\n",
    "series_ids = [base_series_id + region + item for base_series_id in base_series_ids for region in regions for item in items]"
   ]
  },
  {
   "cell_type": "code",
   "execution_count": null,
   "id": "eac1de96",
   "metadata": {},
   "outputs": [
    {
     "name": "stdout",
     "output_type": "stream",
     "text": [
      "📂 Loaded: /Users/annebode/Documents/selfevidence.github.io/data/output/processed_data/inflation_data.csv (23751 rows)\n"
     ]
    },
    {
     "data": {
      "text/html": [
       "<div>\n",
       "<style scoped>\n",
       "    .dataframe tbody tr th:only-of-type {\n",
       "        vertical-align: middle;\n",
       "    }\n",
       "\n",
       "    .dataframe tbody tr th {\n",
       "        vertical-align: top;\n",
       "    }\n",
       "\n",
       "    .dataframe thead th {\n",
       "        text-align: right;\n",
       "    }\n",
       "</style>\n",
       "<table border=\"1\" class=\"dataframe\">\n",
       "  <thead>\n",
       "    <tr style=\"text-align: right;\">\n",
       "      <th></th>\n",
       "      <th>series id</th>\n",
       "      <th>year</th>\n",
       "      <th>period</th>\n",
       "      <th>value</th>\n",
       "      <th>region</th>\n",
       "      <th>item</th>\n",
       "      <th>date</th>\n",
       "      <th>data_type</th>\n",
       "    </tr>\n",
       "  </thead>\n",
       "  <tbody>\n",
       "    <tr>\n",
       "      <th>0</th>\n",
       "      <td>CUUR0000SA0</td>\n",
       "      <td>1998</td>\n",
       "      <td>M12</td>\n",
       "      <td>163.9</td>\n",
       "      <td>National</td>\n",
       "      <td>All items</td>\n",
       "      <td>1998-12-01</td>\n",
       "      <td>CPI (Unadjusted)</td>\n",
       "    </tr>\n",
       "    <tr>\n",
       "      <th>1</th>\n",
       "      <td>CUUR0000SA0</td>\n",
       "      <td>1998</td>\n",
       "      <td>M11</td>\n",
       "      <td>164.0</td>\n",
       "      <td>National</td>\n",
       "      <td>All items</td>\n",
       "      <td>1998-11-01</td>\n",
       "      <td>CPI (Unadjusted)</td>\n",
       "    </tr>\n",
       "    <tr>\n",
       "      <th>2</th>\n",
       "      <td>CUUR0000SA0</td>\n",
       "      <td>1998</td>\n",
       "      <td>M10</td>\n",
       "      <td>164.0</td>\n",
       "      <td>National</td>\n",
       "      <td>All items</td>\n",
       "      <td>1998-10-01</td>\n",
       "      <td>CPI (Unadjusted)</td>\n",
       "    </tr>\n",
       "    <tr>\n",
       "      <th>3</th>\n",
       "      <td>CUUR0000SA0</td>\n",
       "      <td>1998</td>\n",
       "      <td>M09</td>\n",
       "      <td>163.6</td>\n",
       "      <td>National</td>\n",
       "      <td>All items</td>\n",
       "      <td>1998-09-01</td>\n",
       "      <td>CPI (Unadjusted)</td>\n",
       "    </tr>\n",
       "    <tr>\n",
       "      <th>4</th>\n",
       "      <td>CUUR0000SA0</td>\n",
       "      <td>1998</td>\n",
       "      <td>M08</td>\n",
       "      <td>163.4</td>\n",
       "      <td>National</td>\n",
       "      <td>All items</td>\n",
       "      <td>1998-08-01</td>\n",
       "      <td>CPI (Unadjusted)</td>\n",
       "    </tr>\n",
       "  </tbody>\n",
       "</table>\n",
       "</div>"
      ],
      "text/plain": [
       "     series id  year period  value    region       item        date  \\\n",
       "0  CUUR0000SA0  1998    M12  163.9  National  All items  1998-12-01   \n",
       "1  CUUR0000SA0  1998    M11  164.0  National  All items  1998-11-01   \n",
       "2  CUUR0000SA0  1998    M10  164.0  National  All items  1998-10-01   \n",
       "3  CUUR0000SA0  1998    M09  163.6  National  All items  1998-09-01   \n",
       "4  CUUR0000SA0  1998    M08  163.4  National  All items  1998-08-01   \n",
       "\n",
       "          data_type  \n",
       "0  CPI (Unadjusted)  \n",
       "1  CPI (Unadjusted)  \n",
       "2  CPI (Unadjusted)  \n",
       "3  CPI (Unadjusted)  \n",
       "4  CPI (Unadjusted)  "
      ]
     },
     "execution_count": 4,
     "metadata": {},
     "output_type": "execute_result"
    }
   ],
   "source": [
    "bls = BLSAPI()\n",
    "\n",
    "if hit_api:\n",
    "    df = bls.get_data(\n",
    "        series_ids = series_ids,\n",
    "        years = years[0:1]\n",
    "    )\n",
    "    df = bls.clean_data_cpi_unadjusted(df, base_series_ids, regions, items)\n",
    "    if save_output:\n",
    "        save_data(df=df, filename='inflation_data.csv')\n",
    "else:\n",
    "    df = load_data(filename='inflation_data.csv')\n",
    "\n",
    "df.head()"
   ]
  },
  {
   "cell_type": "code",
   "execution_count": null,
   "id": "4bfb04ea",
   "metadata": {},
   "outputs": [],
   "source": []
  }
 ],
 "metadata": {
  "kernelspec": {
   "display_name": "self_ev",
   "language": "python",
   "name": "python3"
  },
  "language_info": {
   "codemirror_mode": {
    "name": "ipython",
    "version": 3
   },
   "file_extension": ".py",
   "mimetype": "text/x-python",
   "name": "python",
   "nbconvert_exporter": "python",
   "pygments_lexer": "ipython3",
   "version": "3.13.3"
  }
 },
 "nbformat": 4,
 "nbformat_minor": 5
}
