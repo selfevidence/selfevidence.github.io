{
 "cells": [
  {
   "cell_type": "markdown",
   "id": "2a606e68",
   "metadata": {},
   "source": []
  },
  {
   "cell_type": "code",
   "execution_count": 3,
   "id": "9c3b0169",
   "metadata": {},
   "outputs": [],
   "source": [
    "import pandas as pd\n",
    "import plotly.express as px"
   ]
  },
  {
   "cell_type": "code",
   "execution_count": 2,
   "id": "ec540d07",
   "metadata": {},
   "outputs": [
    {
     "data": {
      "text/html": [
       "<div>\n",
       "<style scoped>\n",
       "    .dataframe tbody tr th:only-of-type {\n",
       "        vertical-align: middle;\n",
       "    }\n",
       "\n",
       "    .dataframe tbody tr th {\n",
       "        vertical-align: top;\n",
       "    }\n",
       "\n",
       "    .dataframe thead th {\n",
       "        text-align: right;\n",
       "    }\n",
       "</style>\n",
       "<table border=\"1\" class=\"dataframe\">\n",
       "  <thead>\n",
       "    <tr style=\"text-align: right;\">\n",
       "      <th></th>\n",
       "      <th>series id</th>\n",
       "      <th>year</th>\n",
       "      <th>period</th>\n",
       "      <th>value</th>\n",
       "      <th>footnotes</th>\n",
       "    </tr>\n",
       "  </thead>\n",
       "  <tbody>\n",
       "    <tr>\n",
       "      <th>0</th>\n",
       "      <td>CUUR0000SA0</td>\n",
       "      <td>1998</td>\n",
       "      <td>M12</td>\n",
       "      <td>163.9</td>\n",
       "      <td>NaN</td>\n",
       "    </tr>\n",
       "    <tr>\n",
       "      <th>1</th>\n",
       "      <td>CUUR0000SA0</td>\n",
       "      <td>1998</td>\n",
       "      <td>M11</td>\n",
       "      <td>164.0</td>\n",
       "      <td>NaN</td>\n",
       "    </tr>\n",
       "    <tr>\n",
       "      <th>2</th>\n",
       "      <td>CUUR0000SA0</td>\n",
       "      <td>1998</td>\n",
       "      <td>M10</td>\n",
       "      <td>164.0</td>\n",
       "      <td>NaN</td>\n",
       "    </tr>\n",
       "    <tr>\n",
       "      <th>3</th>\n",
       "      <td>CUUR0000SA0</td>\n",
       "      <td>1998</td>\n",
       "      <td>M09</td>\n",
       "      <td>163.6</td>\n",
       "      <td>NaN</td>\n",
       "    </tr>\n",
       "    <tr>\n",
       "      <th>4</th>\n",
       "      <td>CUUR0000SA0</td>\n",
       "      <td>1998</td>\n",
       "      <td>M08</td>\n",
       "      <td>163.4</td>\n",
       "      <td>NaN</td>\n",
       "    </tr>\n",
       "  </tbody>\n",
       "</table>\n",
       "</div>"
      ],
      "text/plain": [
       "     series id  year period  value  footnotes\n",
       "0  CUUR0000SA0  1998    M12  163.9        NaN\n",
       "1  CUUR0000SA0  1998    M11  164.0        NaN\n",
       "2  CUUR0000SA0  1998    M10  164.0        NaN\n",
       "3  CUUR0000SA0  1998    M09  163.6        NaN\n",
       "4  CUUR0000SA0  1998    M08  163.4        NaN"
      ]
     },
     "execution_count": 2,
     "metadata": {},
     "output_type": "execute_result"
    }
   ],
   "source": [
    "df = pd.read_csv(\"../../data/inflation/cpi_data.csv\")\n",
    "df.head()"
   ]
  },
  {
   "cell_type": "code",
   "execution_count": 6,
   "id": "f4ebe333",
   "metadata": {},
   "outputs": [
    {
     "data": {
      "text/html": [
       "<div>\n",
       "<style scoped>\n",
       "    .dataframe tbody tr th:only-of-type {\n",
       "        vertical-align: middle;\n",
       "    }\n",
       "\n",
       "    .dataframe tbody tr th {\n",
       "        vertical-align: top;\n",
       "    }\n",
       "\n",
       "    .dataframe thead th {\n",
       "        text-align: right;\n",
       "    }\n",
       "</style>\n",
       "<table border=\"1\" class=\"dataframe\">\n",
       "  <thead>\n",
       "    <tr style=\"text-align: right;\">\n",
       "      <th></th>\n",
       "      <th>series id</th>\n",
       "      <th>year</th>\n",
       "      <th>period</th>\n",
       "      <th>value</th>\n",
       "      <th>footnotes</th>\n",
       "    </tr>\n",
       "  </thead>\n",
       "  <tbody>\n",
       "    <tr>\n",
       "      <th>0</th>\n",
       "      <td>CUUR0000SA0</td>\n",
       "      <td>1998</td>\n",
       "      <td>M12</td>\n",
       "      <td>163.900</td>\n",
       "      <td>NaN</td>\n",
       "    </tr>\n",
       "    <tr>\n",
       "      <th>1</th>\n",
       "      <td>CUUR0000SA0</td>\n",
       "      <td>1998</td>\n",
       "      <td>M11</td>\n",
       "      <td>164.000</td>\n",
       "      <td>NaN</td>\n",
       "    </tr>\n",
       "    <tr>\n",
       "      <th>2</th>\n",
       "      <td>CUUR0000SA0</td>\n",
       "      <td>1998</td>\n",
       "      <td>M10</td>\n",
       "      <td>164.000</td>\n",
       "      <td>NaN</td>\n",
       "    </tr>\n",
       "    <tr>\n",
       "      <th>3</th>\n",
       "      <td>CUUR0000SA0</td>\n",
       "      <td>1998</td>\n",
       "      <td>M09</td>\n",
       "      <td>163.600</td>\n",
       "      <td>NaN</td>\n",
       "    </tr>\n",
       "    <tr>\n",
       "      <th>4</th>\n",
       "      <td>CUUR0000SA0</td>\n",
       "      <td>1998</td>\n",
       "      <td>M08</td>\n",
       "      <td>163.400</td>\n",
       "      <td>NaN</td>\n",
       "    </tr>\n",
       "    <tr>\n",
       "      <th>...</th>\n",
       "      <td>...</td>\n",
       "      <td>...</td>\n",
       "      <td>...</td>\n",
       "      <td>...</td>\n",
       "      <td>...</td>\n",
       "    </tr>\n",
       "    <tr>\n",
       "      <th>20033</th>\n",
       "      <td>CUUR0000SA0L1E</td>\n",
       "      <td>2019</td>\n",
       "      <td>M05</td>\n",
       "      <td>262.590</td>\n",
       "      <td>NaN</td>\n",
       "    </tr>\n",
       "    <tr>\n",
       "      <th>20034</th>\n",
       "      <td>CUUR0000SA0L1E</td>\n",
       "      <td>2019</td>\n",
       "      <td>M04</td>\n",
       "      <td>262.332</td>\n",
       "      <td>NaN</td>\n",
       "    </tr>\n",
       "    <tr>\n",
       "      <th>20035</th>\n",
       "      <td>CUUR0000SA0L1E</td>\n",
       "      <td>2019</td>\n",
       "      <td>M03</td>\n",
       "      <td>261.836</td>\n",
       "      <td>NaN</td>\n",
       "    </tr>\n",
       "    <tr>\n",
       "      <th>20036</th>\n",
       "      <td>CUUR0000SA0L1E</td>\n",
       "      <td>2019</td>\n",
       "      <td>M02</td>\n",
       "      <td>261.114</td>\n",
       "      <td>NaN</td>\n",
       "    </tr>\n",
       "    <tr>\n",
       "      <th>20037</th>\n",
       "      <td>CUUR0000SA0L1E</td>\n",
       "      <td>2019</td>\n",
       "      <td>M01</td>\n",
       "      <td>260.122</td>\n",
       "      <td>NaN</td>\n",
       "    </tr>\n",
       "  </tbody>\n",
       "</table>\n",
       "<p>1118 rows × 5 columns</p>\n",
       "</div>"
      ],
      "text/plain": [
       "            series id  year period    value  footnotes\n",
       "0         CUUR0000SA0  1998    M12  163.900        NaN\n",
       "1         CUUR0000SA0  1998    M11  164.000        NaN\n",
       "2         CUUR0000SA0  1998    M10  164.000        NaN\n",
       "3         CUUR0000SA0  1998    M09  163.600        NaN\n",
       "4         CUUR0000SA0  1998    M08  163.400        NaN\n",
       "...               ...   ...    ...      ...        ...\n",
       "20033  CUUR0000SA0L1E  2019    M05  262.590        NaN\n",
       "20034  CUUR0000SA0L1E  2019    M04  262.332        NaN\n",
       "20035  CUUR0000SA0L1E  2019    M03  261.836        NaN\n",
       "20036  CUUR0000SA0L1E  2019    M02  261.114        NaN\n",
       "20037  CUUR0000SA0L1E  2019    M01  260.122        NaN\n",
       "\n",
       "[1118 rows x 5 columns]"
      ]
     },
     "execution_count": 6,
     "metadata": {},
     "output_type": "execute_result"
    }
   ],
   "source": [
    "df[df['series id'].isin(['CUUR0000SA0', 'CUUR0000SA0L1E'])]"
   ]
  },
  {
   "cell_type": "code",
   "execution_count": 5,
   "id": "36157d49",
   "metadata": {},
   "outputs": [
    {
     "data": {
      "application/vnd.plotly.v1+json": {
       "config": {
        "plotlyServerURL": "https://plot.ly"
       },
       "data": [
        {
         "hovertemplate": "series id=CUUR0000SA0<br>year=%{x}<br>value=%{y}<extra></extra>",
         "legendgroup": "CUUR0000SA0",
         "line": {
          "color": "#636efa",
          "dash": "solid"
         },
         "marker": {
          "symbol": "circle"
         },
         "mode": "lines",
         "name": "CUUR0000SA0",
         "showlegend": true,
         "type": "scattergl",
         "x": {
          "bdata": "zgfOB84HzgfOB84HzgfOB84HzgfOB84HzQfNB80HzQfNB80HzQfNB80HzQfNB80HzAfMB8wHzAfMB8wHzAfMB8wHzAfMB8wHywfLB8sHywfLB8sHywfLB8sHywfLB8sHygfKB8oHygfKB8oHygfKB8oHygfKB8oHyQfJB8kHyQfJB8kHyQfJB8kHyQfJB8kHyAfIB8gHyAfIB8gHyAfIB8gHyAfIB8gHxwfHB8cHxwfHB8cHxwfHB8cHxwfHB8cHxgfGB8YHxgfGB8YHxgfGB8YHxgfGB8YHxQfFB8UHxQfFB8UHxQfFB8UHxQfFB8UHxAfEB8QHxAfEB8QHxAfEB8QHxAfEB8QHwwfDB8MHwwfDB8MHwwfDB8MHwwfDB8MHwgfCB8IHwgfCB8IHwgfCB8IHwgfCB8IHwQfBB8EHwQfBB8EHwQfBB8EHwQfBB8EHwAfAB8AHwAfAB8AHwAfAB8AHwAfAB8AHvwe/B78Hvwe/B78Hvwe/B78Hvwe/B78Hvge+B74Hvge+B74Hvge+B74Hvge+B74HvQe9B70HvQe9B70HvQe9B70HvQe9B70HvAe8B7wHvAe8B7wHvAe8B7wHvAe8B7wHuwe7B7sHuwe7B7sHuwe7B7sHuwe7B7sH4gfiB+IH4gfiB+IH4gfiB+IH4gfiB+IH4QfhB+EH4QfhB+EH4QfhB+EH4QfhB+EH4AfgB+AH4AfgB+AH4AfgB+AH4AfgB+AH3wffB98H3wffB98H3wffB98H3wffB98H3gfeB94H3gfeB94H3gfeB94H3gfeB94H3QfdB90H3QfdB90H3QfdB90H3QfdB90H3AfcB9wH3AfcB9wH3AfcB9wH3AfcB9wH2wfbB9sH2wfbB9sH2wfbB9sH2wfbB9sH2gfaB9oH2gfaB9oH2gfaB9oH2gfaB9oH2QfZB9kH2QfZB9kH2QfZB9kH2QfZB9kH2AfYB9gH2AfYB9gH2AfYB9gH2AfYB9gH1wfXB9cH1wfXB9cH1wfXB9cH1wfXB9cH1gfWB9YH1gfWB9YH1gfWB9YH1gfWB9YH1QfVB9UH1QfVB9UH1QfVB9UH1QfVB9UH1AfUB9QH1AfUB9QH1AfUB9QH1AfUB9QH0wfTB9MH0wfTB9MH0wfTB9MH0wfTB9MH0gfSB9IH0gfSB9IH0gfSB9IH0gfSB9IH0QfRB9EH0QfRB9EH0QfRB9EH0QfRB9EH0AfQB9AH0AfQB9AH0AfQB9AH0AfQB9AHzwfPB88HzwfPB88HzwfPB88HzwfPB88H6QfpB+kH6QfpB+kH6QfoB+gH6AfoB+gH6AfoB+gH6AfoB+gH6AfnB+cH5wfnB+cH5wfnB+cH5wfnB+cH5wfmB+YH5gfmB+YH5gfmB+YH5gfmB+YH5gflB+UH5QflB+UH5QflB+UH5QflB+UH5QfkB+QH5AfkB+QH5AfkB+QH5AfkB+QH5AfjB+MH4wfjB+MH4wfjB+MH4wfjB+MH4wc=",
          "dtype": "i2"
         },
         "xaxis": "x",
         "y": {
          "bdata": "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",
          "dtype": "f8"
         },
         "yaxis": "y"
        },
        {
         "hovertemplate": "series id=CUUR0000SA0L1E<br>year=%{x}<br>value=%{y}<extra></extra>",
         "legendgroup": "CUUR0000SA0L1E",
         "line": {
          "color": "#EF553B",
          "dash": "solid"
         },
         "marker": {
          "symbol": "circle"
         },
         "mode": "lines",
         "name": "CUUR0000SA0L1E",
         "showlegend": true,
         "type": "scattergl",
         "x": {
          "bdata": "zgfOB84HzgfOB84HzgfOB84HzgfOB84HzQfNB80HzQfNB80HzQfNB80HzQfNB80HzAfMB8wHzAfMB8wHzAfMB8wHzAfMB8wHywfLB8sHywfLB8sHywfLB8sHywfLB8sHygfKB8oHygfKB8oHygfKB8oHygfKB8oHyQfJB8kHyQfJB8kHyQfJB8kHyQfJB8kHyAfIB8gHyAfIB8gHyAfIB8gHyAfIB8gHxwfHB8cHxwfHB8cHxwfHB8cHxwfHB8cHxgfGB8YHxgfGB8YHxgfGB8YHxgfGB8YHxQfFB8UHxQfFB8UHxQfFB8UHxQfFB8UHxAfEB8QHxAfEB8QHxAfEB8QHxAfEB8QHwwfDB8MHwwfDB8MHwwfDB8MHwwfDB8MHwgfCB8IHwgfCB8IHwgfCB8IHwgfCB8IHwQfBB8EHwQfBB8EHwQfBB8EHwQfBB8EHwAfAB8AHwAfAB8AHwAfAB8AHwAfAB8AHvwe/B78Hvwe/B78Hvwe/B78Hvwe/B78Hvge+B74Hvge+B74Hvge+B74Hvge+B74HvQe9B70HvQe9B70HvQe9B70HvQe9B70HvAe8B7wHvAe8B7wHvAe8B7wHvAe8B7wHuwe7B7sHuwe7B7sHuwe7B7sHuwe7B7sH4gfiB+IH4gfiB+IH4gfiB+IH4gfiB+IH4QfhB+EH4QfhB+EH4QfhB+EH4QfhB+EH4AfgB+AH4AfgB+AH4AfgB+AH4AfgB+AH3wffB98H3wffB98H3wffB98H3wffB98H3gfeB94H3gfeB94H3gfeB94H3gfeB94H3QfdB90H3QfdB90H3QfdB90H3QfdB90H3AfcB9wH3AfcB9wH3AfcB9wH3AfcB9wH2wfbB9sH2wfbB9sH2wfbB9sH2wfbB9sH2gfaB9oH2gfaB9oH2gfaB9oH2gfaB9oH2QfZB9kH2QfZB9kH2QfZB9kH2QfZB9kH2AfYB9gH2AfYB9gH2AfYB9gH2AfYB9gH1wfXB9cH1wfXB9cH1wfXB9cH1wfXB9cH1gfWB9YH1gfWB9YH1gfWB9YH1gfWB9YH1QfVB9UH1QfVB9UH1QfVB9UH1QfVB9UH1AfUB9QH1AfUB9QH1AfUB9QH1AfUB9QH0wfTB9MH0wfTB9MH0wfTB9MH0wfTB9MH0gfSB9IH0gfSB9IH0gfSB9IH0gfSB9IH0QfRB9EH0QfRB9EH0QfRB9EH0QfRB9EH0AfQB9AH0AfQB9AH0AfQB9AH0AfQB9AHzwfPB88HzwfPB88HzwfPB88HzwfPB88H6QfpB+kH6QfpB+kH6QfoB+gH6AfoB+gH6AfoB+gH6AfoB+gH6AfnB+cH5wfnB+cH5wfnB+cH5wfnB+cH5wfmB+YH5gfmB+YH5gfmB+YH5gfmB+YH5gflB+UH5QflB+UH5QflB+UH5QflB+UH5QfkB+QH5AfkB+QH5AfkB+QH5AfkB+QH5AfjB+MH4wfjB+MH4wfjB+MH4wfjB+MH4wc=",
          "dtype": "i2"
         },
         "xaxis": "x",
         "y": {
          "bdata": "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",
          "dtype": "f8"
         },
         "yaxis": "y"
        }
       ],
       "layout": {
        "legend": {
         "title": {
          "text": "series id"
         },
         "tracegroupgap": 0
        },
        "margin": {
         "t": 60
        },
        "template": {
         "data": {
          "bar": [
           {
            "error_x": {
             "color": "#2a3f5f"
            },
            "error_y": {
             "color": "#2a3f5f"
            },
            "marker": {
             "line": {
              "color": "#E5ECF6",
              "width": 0.5
             },
             "pattern": {
              "fillmode": "overlay",
              "size": 10,
              "solidity": 0.2
             }
            },
            "type": "bar"
           }
          ],
          "barpolar": [
           {
            "marker": {
             "line": {
              "color": "#E5ECF6",
              "width": 0.5
             },
             "pattern": {
              "fillmode": "overlay",
              "size": 10,
              "solidity": 0.2
             }
            },
            "type": "barpolar"
           }
          ],
          "carpet": [
           {
            "aaxis": {
             "endlinecolor": "#2a3f5f",
             "gridcolor": "white",
             "linecolor": "white",
             "minorgridcolor": "white",
             "startlinecolor": "#2a3f5f"
            },
            "baxis": {
             "endlinecolor": "#2a3f5f",
             "gridcolor": "white",
             "linecolor": "white",
             "minorgridcolor": "white",
             "startlinecolor": "#2a3f5f"
            },
            "type": "carpet"
           }
          ],
          "choropleth": [
           {
            "colorbar": {
             "outlinewidth": 0,
             "ticks": ""
            },
            "type": "choropleth"
           }
          ],
          "contour": [
           {
            "colorbar": {
             "outlinewidth": 0,
             "ticks": ""
            },
            "colorscale": [
             [
              0,
              "#0d0887"
             ],
             [
              0.1111111111111111,
              "#46039f"
             ],
             [
              0.2222222222222222,
              "#7201a8"
             ],
             [
              0.3333333333333333,
              "#9c179e"
             ],
             [
              0.4444444444444444,
              "#bd3786"
             ],
             [
              0.5555555555555556,
              "#d8576b"
             ],
             [
              0.6666666666666666,
              "#ed7953"
             ],
             [
              0.7777777777777778,
              "#fb9f3a"
             ],
             [
              0.8888888888888888,
              "#fdca26"
             ],
             [
              1,
              "#f0f921"
             ]
            ],
            "type": "contour"
           }
          ],
          "contourcarpet": [
           {
            "colorbar": {
             "outlinewidth": 0,
             "ticks": ""
            },
            "type": "contourcarpet"
           }
          ],
          "heatmap": [
           {
            "colorbar": {
             "outlinewidth": 0,
             "ticks": ""
            },
            "colorscale": [
             [
              0,
              "#0d0887"
             ],
             [
              0.1111111111111111,
              "#46039f"
             ],
             [
              0.2222222222222222,
              "#7201a8"
             ],
             [
              0.3333333333333333,
              "#9c179e"
             ],
             [
              0.4444444444444444,
              "#bd3786"
             ],
             [
              0.5555555555555556,
              "#d8576b"
             ],
             [
              0.6666666666666666,
              "#ed7953"
             ],
             [
              0.7777777777777778,
              "#fb9f3a"
             ],
             [
              0.8888888888888888,
              "#fdca26"
             ],
             [
              1,
              "#f0f921"
             ]
            ],
            "type": "heatmap"
           }
          ],
          "histogram": [
           {
            "marker": {
             "pattern": {
              "fillmode": "overlay",
              "size": 10,
              "solidity": 0.2
             }
            },
            "type": "histogram"
           }
          ],
          "histogram2d": [
           {
            "colorbar": {
             "outlinewidth": 0,
             "ticks": ""
            },
            "colorscale": [
             [
              0,
              "#0d0887"
             ],
             [
              0.1111111111111111,
              "#46039f"
             ],
             [
              0.2222222222222222,
              "#7201a8"
             ],
             [
              0.3333333333333333,
              "#9c179e"
             ],
             [
              0.4444444444444444,
              "#bd3786"
             ],
             [
              0.5555555555555556,
              "#d8576b"
             ],
             [
              0.6666666666666666,
              "#ed7953"
             ],
             [
              0.7777777777777778,
              "#fb9f3a"
             ],
             [
              0.8888888888888888,
              "#fdca26"
             ],
             [
              1,
              "#f0f921"
             ]
            ],
            "type": "histogram2d"
           }
          ],
          "histogram2dcontour": [
           {
            "colorbar": {
             "outlinewidth": 0,
             "ticks": ""
            },
            "colorscale": [
             [
              0,
              "#0d0887"
             ],
             [
              0.1111111111111111,
              "#46039f"
             ],
             [
              0.2222222222222222,
              "#7201a8"
             ],
             [
              0.3333333333333333,
              "#9c179e"
             ],
             [
              0.4444444444444444,
              "#bd3786"
             ],
             [
              0.5555555555555556,
              "#d8576b"
             ],
             [
              0.6666666666666666,
              "#ed7953"
             ],
             [
              0.7777777777777778,
              "#fb9f3a"
             ],
             [
              0.8888888888888888,
              "#fdca26"
             ],
             [
              1,
              "#f0f921"
             ]
            ],
            "type": "histogram2dcontour"
           }
          ],
          "mesh3d": [
           {
            "colorbar": {
             "outlinewidth": 0,
             "ticks": ""
            },
            "type": "mesh3d"
           }
          ],
          "parcoords": [
           {
            "line": {
             "colorbar": {
              "outlinewidth": 0,
              "ticks": ""
             }
            },
            "type": "parcoords"
           }
          ],
          "pie": [
           {
            "automargin": true,
            "type": "pie"
           }
          ],
          "scatter": [
           {
            "fillpattern": {
             "fillmode": "overlay",
             "size": 10,
             "solidity": 0.2
            },
            "type": "scatter"
           }
          ],
          "scatter3d": [
           {
            "line": {
             "colorbar": {
              "outlinewidth": 0,
              "ticks": ""
             }
            },
            "marker": {
             "colorbar": {
              "outlinewidth": 0,
              "ticks": ""
             }
            },
            "type": "scatter3d"
           }
          ],
          "scattercarpet": [
           {
            "marker": {
             "colorbar": {
              "outlinewidth": 0,
              "ticks": ""
             }
            },
            "type": "scattercarpet"
           }
          ],
          "scattergeo": [
           {
            "marker": {
             "colorbar": {
              "outlinewidth": 0,
              "ticks": ""
             }
            },
            "type": "scattergeo"
           }
          ],
          "scattergl": [
           {
            "marker": {
             "colorbar": {
              "outlinewidth": 0,
              "ticks": ""
             }
            },
            "type": "scattergl"
           }
          ],
          "scattermap": [
           {
            "marker": {
             "colorbar": {
              "outlinewidth": 0,
              "ticks": ""
             }
            },
            "type": "scattermap"
           }
          ],
          "scattermapbox": [
           {
            "marker": {
             "colorbar": {
              "outlinewidth": 0,
              "ticks": ""
             }
            },
            "type": "scattermapbox"
           }
          ],
          "scatterpolar": [
           {
            "marker": {
             "colorbar": {
              "outlinewidth": 0,
              "ticks": ""
             }
            },
            "type": "scatterpolar"
           }
          ],
          "scatterpolargl": [
           {
            "marker": {
             "colorbar": {
              "outlinewidth": 0,
              "ticks": ""
             }
            },
            "type": "scatterpolargl"
           }
          ],
          "scatterternary": [
           {
            "marker": {
             "colorbar": {
              "outlinewidth": 0,
              "ticks": ""
             }
            },
            "type": "scatterternary"
           }
          ],
          "surface": [
           {
            "colorbar": {
             "outlinewidth": 0,
             "ticks": ""
            },
            "colorscale": [
             [
              0,
              "#0d0887"
             ],
             [
              0.1111111111111111,
              "#46039f"
             ],
             [
              0.2222222222222222,
              "#7201a8"
             ],
             [
              0.3333333333333333,
              "#9c179e"
             ],
             [
              0.4444444444444444,
              "#bd3786"
             ],
             [
              0.5555555555555556,
              "#d8576b"
             ],
             [
              0.6666666666666666,
              "#ed7953"
             ],
             [
              0.7777777777777778,
              "#fb9f3a"
             ],
             [
              0.8888888888888888,
              "#fdca26"
             ],
             [
              1,
              "#f0f921"
             ]
            ],
            "type": "surface"
           }
          ],
          "table": [
           {
            "cells": {
             "fill": {
              "color": "#EBF0F8"
             },
             "line": {
              "color": "white"
             }
            },
            "header": {
             "fill": {
              "color": "#C8D4E3"
             },
             "line": {
              "color": "white"
             }
            },
            "type": "table"
           }
          ]
         },
         "layout": {
          "annotationdefaults": {
           "arrowcolor": "#2a3f5f",
           "arrowhead": 0,
           "arrowwidth": 1
          },
          "autotypenumbers": "strict",
          "coloraxis": {
           "colorbar": {
            "outlinewidth": 0,
            "ticks": ""
           }
          },
          "colorscale": {
           "diverging": [
            [
             0,
             "#8e0152"
            ],
            [
             0.1,
             "#c51b7d"
            ],
            [
             0.2,
             "#de77ae"
            ],
            [
             0.3,
             "#f1b6da"
            ],
            [
             0.4,
             "#fde0ef"
            ],
            [
             0.5,
             "#f7f7f7"
            ],
            [
             0.6,
             "#e6f5d0"
            ],
            [
             0.7,
             "#b8e186"
            ],
            [
             0.8,
             "#7fbc41"
            ],
            [
             0.9,
             "#4d9221"
            ],
            [
             1,
             "#276419"
            ]
           ],
           "sequential": [
            [
             0,
             "#0d0887"
            ],
            [
             0.1111111111111111,
             "#46039f"
            ],
            [
             0.2222222222222222,
             "#7201a8"
            ],
            [
             0.3333333333333333,
             "#9c179e"
            ],
            [
             0.4444444444444444,
             "#bd3786"
            ],
            [
             0.5555555555555556,
             "#d8576b"
            ],
            [
             0.6666666666666666,
             "#ed7953"
            ],
            [
             0.7777777777777778,
             "#fb9f3a"
            ],
            [
             0.8888888888888888,
             "#fdca26"
            ],
            [
             1,
             "#f0f921"
            ]
           ],
           "sequentialminus": [
            [
             0,
             "#0d0887"
            ],
            [
             0.1111111111111111,
             "#46039f"
            ],
            [
             0.2222222222222222,
             "#7201a8"
            ],
            [
             0.3333333333333333,
             "#9c179e"
            ],
            [
             0.4444444444444444,
             "#bd3786"
            ],
            [
             0.5555555555555556,
             "#d8576b"
            ],
            [
             0.6666666666666666,
             "#ed7953"
            ],
            [
             0.7777777777777778,
             "#fb9f3a"
            ],
            [
             0.8888888888888888,
             "#fdca26"
            ],
            [
             1,
             "#f0f921"
            ]
           ]
          },
          "colorway": [
           "#636efa",
           "#EF553B",
           "#00cc96",
           "#ab63fa",
           "#FFA15A",
           "#19d3f3",
           "#FF6692",
           "#B6E880",
           "#FF97FF",
           "#FECB52"
          ],
          "font": {
           "color": "#2a3f5f"
          },
          "geo": {
           "bgcolor": "white",
           "lakecolor": "white",
           "landcolor": "#E5ECF6",
           "showlakes": true,
           "showland": true,
           "subunitcolor": "white"
          },
          "hoverlabel": {
           "align": "left"
          },
          "hovermode": "closest",
          "mapbox": {
           "style": "light"
          },
          "paper_bgcolor": "white",
          "plot_bgcolor": "#E5ECF6",
          "polar": {
           "angularaxis": {
            "gridcolor": "white",
            "linecolor": "white",
            "ticks": ""
           },
           "bgcolor": "#E5ECF6",
           "radialaxis": {
            "gridcolor": "white",
            "linecolor": "white",
            "ticks": ""
           }
          },
          "scene": {
           "xaxis": {
            "backgroundcolor": "#E5ECF6",
            "gridcolor": "white",
            "gridwidth": 2,
            "linecolor": "white",
            "showbackground": true,
            "ticks": "",
            "zerolinecolor": "white"
           },
           "yaxis": {
            "backgroundcolor": "#E5ECF6",
            "gridcolor": "white",
            "gridwidth": 2,
            "linecolor": "white",
            "showbackground": true,
            "ticks": "",
            "zerolinecolor": "white"
           },
           "zaxis": {
            "backgroundcolor": "#E5ECF6",
            "gridcolor": "white",
            "gridwidth": 2,
            "linecolor": "white",
            "showbackground": true,
            "ticks": "",
            "zerolinecolor": "white"
           }
          },
          "shapedefaults": {
           "line": {
            "color": "#2a3f5f"
           }
          },
          "ternary": {
           "aaxis": {
            "gridcolor": "white",
            "linecolor": "white",
            "ticks": ""
           },
           "baxis": {
            "gridcolor": "white",
            "linecolor": "white",
            "ticks": ""
           },
           "bgcolor": "#E5ECF6",
           "caxis": {
            "gridcolor": "white",
            "linecolor": "white",
            "ticks": ""
           }
          },
          "title": {
           "x": 0.05
          },
          "xaxis": {
           "automargin": true,
           "gridcolor": "white",
           "linecolor": "white",
           "ticks": "",
           "title": {
            "standoff": 15
           },
           "zerolinecolor": "white",
           "zerolinewidth": 2
          },
          "yaxis": {
           "automargin": true,
           "gridcolor": "white",
           "linecolor": "white",
           "ticks": "",
           "title": {
            "standoff": 15
           },
           "zerolinecolor": "white",
           "zerolinewidth": 2
          }
         }
        },
        "xaxis": {
         "anchor": "y",
         "domain": [
          0,
          1
         ],
         "title": {
          "text": "year"
         }
        },
        "yaxis": {
         "anchor": "x",
         "domain": [
          0,
          1
         ],
         "title": {
          "text": "value"
         }
        }
       }
      }
     },
     "metadata": {},
     "output_type": "display_data"
    }
   ],
   "source": [
    "px.line(df[df['series id'].isin(['CUUR0000SA0', 'CUUR0000SA0L1E'])], x=\"year\", y=\"value\", color=\"series id\")"
   ]
  },
  {
   "cell_type": "code",
   "execution_count": null,
   "id": "dcce3d06",
   "metadata": {},
   "outputs": [],
   "source": []
  }
 ],
 "metadata": {
  "kernelspec": {
   "display_name": "ds_env",
   "language": "python",
   "name": "python3"
  },
  "language_info": {
   "codemirror_mode": {
    "name": "ipython",
    "version": 3
   },
   "file_extension": ".py",
   "mimetype": "text/x-python",
   "name": "python",
   "nbconvert_exporter": "python",
   "pygments_lexer": "ipython3",
   "version": "3.13.3"
  }
 },
 "nbformat": 4,
 "nbformat_minor": 5
}
